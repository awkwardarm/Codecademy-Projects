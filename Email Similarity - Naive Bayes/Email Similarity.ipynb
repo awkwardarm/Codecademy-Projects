{
 "cells": [
  {
   "cell_type": "code",
   "execution_count": 10,
   "metadata": {},
   "outputs": [],
   "source": [
    "from sklearn.datasets import fetch_20newsgroups\n",
    "from sklearn.naive_bayes import MultinomialNB\n",
    "from sklearn.feature_extraction.text import CountVectorizer\n",
    "import pprint as pp\n",
    "import numpy as np"
   ]
  },
  {
   "cell_type": "code",
   "execution_count": 2,
   "metadata": {},
   "outputs": [
    {
     "name": "stdout",
     "output_type": "stream",
     "text": [
      "['alt.atheism',\n",
      " 'comp.graphics',\n",
      " 'comp.os.ms-windows.misc',\n",
      " 'comp.sys.ibm.pc.hardware',\n",
      " 'comp.sys.mac.hardware',\n",
      " 'comp.windows.x',\n",
      " 'misc.forsale',\n",
      " 'rec.autos',\n",
      " 'rec.motorcycles',\n",
      " 'rec.sport.baseball',\n",
      " 'rec.sport.hockey',\n",
      " 'sci.crypt',\n",
      " 'sci.electronics',\n",
      " 'sci.med',\n",
      " 'sci.space',\n",
      " 'soc.religion.christian',\n",
      " 'talk.politics.guns',\n",
      " 'talk.politics.mideast',\n",
      " 'talk.politics.misc',\n",
      " 'talk.religion.misc']\n"
     ]
    }
   ],
   "source": [
    "# Load data\n",
    "emails = fetch_20newsgroups()\n",
    "\n",
    "# View target names for emails\n",
    "pp.pprint(emails.target_names)"
   ]
  },
  {
   "cell_type": "code",
   "execution_count": 3,
   "metadata": {},
   "outputs": [
    {
     "name": "stdout",
     "output_type": "stream",
     "text": [
      "['rec.sport.baseball', 'rec.sport.hockey']\n"
     ]
    }
   ],
   "source": [
    "# Select desired categories\n",
    "emails = fetch_20newsgroups(categories=['rec.sport.baseball', 'rec.sport.hockey'])\n",
    "\n",
    "# View target names for emails\n",
    "pp.pprint(emails.target_names)"
   ]
  },
  {
   "cell_type": "code",
   "execution_count": 4,
   "metadata": {},
   "outputs": [
    {
     "name": "stdout",
     "output_type": "stream",
     "text": [
      "('From: mmb@lamar.ColoState.EDU (Michael Burger)\\n'\n",
      " 'Subject: More TV Info\\n'\n",
      " 'Distribution: na\\n'\n",
      " 'Nntp-Posting-Host: lamar.acns.colostate.edu\\n'\n",
      " 'Organization: Colorado State University, Fort Collins, CO  80523\\n'\n",
      " 'Lines: 36\\n'\n",
      " '\\n'\n",
      " 'United States Coverage:\\n'\n",
      " 'Sunday April 18\\n'\n",
      " '  N.J./N.Y.I. at Pittsburgh - 1:00 EDT to Eastern Time Zone\\n'\n",
      " '  ABC - Gary Thorne and Bill Clement\\n'\n",
      " '\\n'\n",
      " '  St. Louis at Chicago - 12:00 CDT and 11:00 MDT - to Central/Mountain '\n",
      " 'Zones\\n'\n",
      " '  ABC - Mike Emerick and Jim Schoenfeld\\n'\n",
      " '\\n'\n",
      " '  Los Angeles at Calgary - 12:00 PDT and 11:00 ADT - to Pacific/Alaskan '\n",
      " 'Zones\\n'\n",
      " '  ABC - Al Michaels and John Davidson\\n'\n",
      " '\\n'\n",
      " 'Tuesday, April 20\\n'\n",
      " '  N.J./N.Y.I. at Pittsburgh - 7:30 EDT Nationwide\\n'\n",
      " '  ESPN - Gary Thorne and Bill Clement\\n'\n",
      " '\\n'\n",
      " 'Thursday, April 22 and Saturday April 24\\n'\n",
      " '  To Be Announced - 7:30 EDT Nationwide\\n'\n",
      " '  ESPN - To Be Announced\\n'\n",
      " '\\n'\n",
      " '\\n'\n",
      " 'Canadian Coverage:\\n'\n",
      " '\\n'\n",
      " 'Sunday, April 18\\n'\n",
      " '  Buffalo at Boston - 7:30 EDT Nationwide\\n'\n",
      " '  TSN - ???\\n'\n",
      " '\\n'\n",
      " 'Tuesday, April 20\\n'\n",
      " '  N.J.D./N.Y. at Pittsburgh - 7:30 EDT Nationwide\\n'\n",
      " '  TSN - ???\\n'\n",
      " '\\n'\n",
      " 'Wednesday, April 21\\n'\n",
      " '  St. Louis at Chicago - 8:30 EDT Nationwide\\n'\n",
      " '  TSN - ???\\n'\n",
      " '\\n'\n",
      " '\\n'\n",
      " '\\n')\n"
     ]
    }
   ],
   "source": [
    "# Preview email in dat\n",
    "pp.pprint(emails.data[5])"
   ]
  },
  {
   "cell_type": "code",
   "execution_count": 5,
   "metadata": {},
   "outputs": [
    {
     "name": "stdout",
     "output_type": "stream",
     "text": [
      "1\n",
      "['rec.sport.baseball', 'rec.sport.hockey']\n"
     ]
    }
   ],
   "source": [
    "# Preview email targets\n",
    "\n",
    "pp.pprint(emails.target[5])\n",
    "pp.pprint(emails.target_names)"
   ]
  },
  {
   "cell_type": "code",
   "execution_count": 6,
   "metadata": {},
   "outputs": [],
   "source": [
    "def email_tester(categories):\n",
    "\n",
    "    # Split the data using functions in fetch_20newsgroups object\n",
    "    train_emails = fetch_20newsgroups(subset='train', shuffle=True, random_state=108, \n",
    "                                    categories=categories)\n",
    "    test_emails = fetch_20newsgroups(subset='test', shuffle=True, random_state=108,\n",
    "                                    categories=categories)\n",
    "\n",
    "    # Transform emails into list of words using CountVectorizer\n",
    "    counter = CountVectorizer()\n",
    "\n",
    "    # Fit all of the data by concatenating lists\n",
    "    # The concatenate order does not matter in this case as the counter is\n",
    "    # building a dictionary of word frequencies across all data that it sees\n",
    "    counter.fit(test_emails.data + train_emails.data)\n",
    "\n",
    "    # Make a list of the counts of words in the training set\n",
    "    train_counts = counter.transform(train_emails.data)\n",
    "\n",
    "    # Make list of counts of words in the test set\n",
    "    test_counts = counter.transform(test_emails.data)\n",
    "\n",
    "    # Create Naive Bayes classifier object\n",
    "    clf = MultinomialNB()\n",
    "\n",
    "    # Fit the classifier to the training data and training labels\n",
    "    clf.fit(train_counts, train_emails.target)\n",
    "\n",
    "    # Print accuracy of this model\n",
    "    score = clf.score(test_counts, test_emails.target)\n",
    "\n",
    "    return score"
   ]
  },
  {
   "cell_type": "code",
   "execution_count": 7,
   "metadata": {},
   "outputs": [
    {
     "data": {
      "text/plain": [
       "0.9723618090452262"
      ]
     },
     "execution_count": 7,
     "metadata": {},
     "output_type": "execute_result"
    }
   ],
   "source": [
    "categories=['rec.sport.baseball', 'rec.sport.hockey']\n",
    "email_tester(categories)"
   ]
  },
  {
   "cell_type": "code",
   "execution_count": 8,
   "metadata": {},
   "outputs": [
    {
     "data": {
      "text/plain": [
       "0.9482014388489208"
      ]
     },
     "execution_count": 8,
     "metadata": {},
     "output_type": "execute_result"
    }
   ],
   "source": [
    "categories=['alt.atheism','talk.politics.mideast']\n",
    "email_tester(categories)"
   ]
  },
  {
   "cell_type": "code",
   "execution_count": 9,
   "metadata": {},
   "outputs": [],
   "source": [
    "# Let's find an the most and least accurate pairing\n",
    "\n",
    "# Reload data\n",
    "emails = fetch_20newsgroups()\n",
    "\n",
    "topics = emails.target_names\n",
    "\n",
    "# Empty list of accuracy scores\n",
    "accuracy_scores = []\n",
    "\n",
    "# list of combinations\n",
    "combinations = []\n",
    "\n",
    "# Iterate through all possible combinations and append to list\n",
    "for i in range(len(topics)):\n",
    "    for j in range(i + 1, len(topics)):\n",
    "        if i < len(topics):\n",
    "            combinations.append([topics[i], topics[j]])\n",
    "\n",
    "# Iterate through list of combinations and add score to accuracy_scores list\n",
    "for combo in combinations:\n",
    "    score = email_tester(combo)\n",
    "    accuracy_scores.append(score)"
   ]
  },
  {
   "cell_type": "code",
   "execution_count": 14,
   "metadata": {},
   "outputs": [
    {
     "name": "stdout",
     "output_type": "stream",
     "text": [
      "['comp.sys.ibm.pc.hardware', 'rec.sport.hockey'] has the highest accuracy score of 0.9974715549936789\n",
      "['comp.os.ms-windows.misc', 'comp.sys.mac.hardware'] has the lowest accuracy score of 0.4980744544287548\n"
     ]
    }
   ],
   "source": [
    "# Get indices of max and min scores\n",
    "max_index = np.argmax(accuracy_scores)\n",
    "min_index = np.argmin(accuracy_scores)\n",
    "\n",
    "# Print corresponding pairs from combinations\n",
    "print(f'{combinations[max_index]} has the highest accuracy score of {accuracy_scores[max_index]}')\n",
    "print(f'{combinations[min_index]} has the lowest accuracy score of {accuracy_scores[min_index]}')"
   ]
  }
 ],
 "metadata": {
  "kernelspec": {
   "display_name": "tryba-env",
   "language": "python",
   "name": "python3"
  },
  "language_info": {
   "codemirror_mode": {
    "name": "ipython",
    "version": 3
   },
   "file_extension": ".py",
   "mimetype": "text/x-python",
   "name": "python",
   "nbconvert_exporter": "python",
   "pygments_lexer": "ipython3",
   "version": "3.10.13"
  }
 },
 "nbformat": 4,
 "nbformat_minor": 2
}
