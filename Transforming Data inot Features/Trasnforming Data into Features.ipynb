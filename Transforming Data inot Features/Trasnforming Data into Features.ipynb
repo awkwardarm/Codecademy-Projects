{
 "cells": [
  {
   "cell_type": "code",
   "execution_count": 132,
   "metadata": {},
   "outputs": [],
   "source": [
    "import pandas as pd\n",
    "import numpy as np\n",
    "from sklearn.preprocessing import StandardScaler\n",
    "\n",
    "#import data\n",
    "\n",
    "reviews = pd.read_csv('reviews.csv')"
   ]
  },
  {
   "cell_type": "code",
   "execution_count": 133,
   "metadata": {},
   "outputs": [
    {
     "name": "stdout",
     "output_type": "stream",
     "text": [
      "Index(['clothing_id', 'age', 'review_title', 'review_text', 'recommended',\n",
      "       'division_name', 'department_name', 'review_date', 'rating'],\n",
      "      dtype='object')\n"
     ]
    }
   ],
   "source": [
    "#print column names\n",
    "print(reviews.columns)"
   ]
  },
  {
   "cell_type": "code",
   "execution_count": 134,
   "metadata": {},
   "outputs": [
    {
     "name": "stdout",
     "output_type": "stream",
     "text": [
      "<class 'pandas.core.frame.DataFrame'>\n",
      "RangeIndex: 5000 entries, 0 to 4999\n",
      "Data columns (total 9 columns):\n",
      " #   Column           Non-Null Count  Dtype \n",
      "---  ------           --------------  ----- \n",
      " 0   clothing_id      5000 non-null   int64 \n",
      " 1   age              5000 non-null   int64 \n",
      " 2   review_title     4174 non-null   object\n",
      " 3   review_text      4804 non-null   object\n",
      " 4   recommended      5000 non-null   bool  \n",
      " 5   division_name    4996 non-null   object\n",
      " 6   department_name  4996 non-null   object\n",
      " 7   review_date      5000 non-null   object\n",
      " 8   rating           5000 non-null   object\n",
      "dtypes: bool(1), int64(2), object(6)\n",
      "memory usage: 317.5+ KB\n"
     ]
    }
   ],
   "source": [
    "#print .info\n",
    "reviews.info()"
   ]
  },
  {
   "cell_type": "code",
   "execution_count": 135,
   "metadata": {},
   "outputs": [
    {
     "name": "stdout",
     "output_type": "stream",
     "text": [
      "True     4166\n",
      "False     834\n",
      "Name: recommended, dtype: int64\n"
     ]
    }
   ],
   "source": [
    "#look at the counts of recommended\n",
    "print(reviews['recommended'].value_counts())"
   ]
  },
  {
   "cell_type": "code",
   "execution_count": 136,
   "metadata": {},
   "outputs": [],
   "source": [
    "#create binary dictionary\n",
    "binary_dict = {True:1, False:0}"
   ]
  },
  {
   "cell_type": "code",
   "execution_count": 137,
   "metadata": {},
   "outputs": [
    {
     "name": "stdout",
     "output_type": "stream",
     "text": [
      "1    4166\n",
      "0     834\n",
      "Name: recommended, dtype: int64\n"
     ]
    }
   ],
   "source": [
    "#transform column\n",
    "reviews['recommended'] = reviews['recommended'].map(binary_dict)\n",
    "\n",
    "#print your transformed column\n",
    "print(reviews['recommended'].value_counts())"
   ]
  },
  {
   "cell_type": "code",
   "execution_count": 138,
   "metadata": {},
   "outputs": [
    {
     "name": "stdout",
     "output_type": "stream",
     "text": [
      "Loved it     2798\n",
      "Liked it     1141\n",
      "Was okay      564\n",
      "Not great     304\n",
      "Hated it      193\n",
      "Name: rating, dtype: int64\n"
     ]
    }
   ],
   "source": [
    "#look at the counts of rating\n",
    "print(reviews['rating'].value_counts())\n",
    "\n",
    "#create dictionary\n",
    "rating_dict = {'Loved it':5, 'Liked it':4, 'Was okay':3, 'Not great':2, 'Hated it':1}"
   ]
  },
  {
   "cell_type": "code",
   "execution_count": 139,
   "metadata": {},
   "outputs": [
    {
     "name": "stdout",
     "output_type": "stream",
     "text": [
      "5    2798\n",
      "4    1141\n",
      "3     564\n",
      "2     304\n",
      "1     193\n",
      "Name: rating, dtype: int64\n"
     ]
    }
   ],
   "source": [
    "#transform rating column\n",
    "reviews['rating'] = reviews['rating'].map(rating_dict)\n",
    "\n",
    "#print your transformed column values\n",
    "print(reviews['rating'].value_counts())"
   ]
  },
  {
   "cell_type": "code",
   "execution_count": 140,
   "metadata": {},
   "outputs": [],
   "source": [
    "#get the number of categories in a feature\n",
    "reviews['department_name'].value_counts()\n",
    "\n",
    "#perform get_dummies\n",
    "ohe = pd.get_dummies(reviews['department_name'])\n"
   ]
  },
  {
   "cell_type": "code",
   "execution_count": 141,
   "metadata": {},
   "outputs": [],
   "source": [
    "#join the new columns back onto the original\n",
    "reviews = reviews.join(ohe)\n",
    "\n",
    "#print column names\n",
    "#print(reviews.columns)"
   ]
  },
  {
   "cell_type": "code",
   "execution_count": 142,
   "metadata": {},
   "outputs": [
    {
     "data": {
      "text/plain": [
       "dtype('<M8[ns]')"
      ]
     },
     "execution_count": 142,
     "metadata": {},
     "output_type": "execute_result"
    }
   ],
   "source": [
    "#transform review_date to date-time data\n",
    "reviews['review_date'] = pd.to_datetime(reviews['review_date'])\n",
    "\n",
    "#print review_date data type \n",
    "reviews['review_date'].dtype"
   ]
  },
  {
   "cell_type": "code",
   "execution_count": 143,
   "metadata": {},
   "outputs": [
    {
     "data": {
      "text/plain": [
       "array([[-0.34814459,  0.44742824, -0.1896478 , ..., -0.21656679,\n",
       "        -0.88496718, -0.07504356],\n",
       "       [-1.24475223,  0.44742824,  0.71602461, ..., -0.21656679,\n",
       "        -0.88496718, -0.07504356],\n",
       "       [-0.51116416,  0.44742824,  0.71602461, ..., -0.21656679,\n",
       "        -0.88496718, -0.07504356],\n",
       "       ...,\n",
       "       [-0.59267395,  0.44742824,  0.71602461, ..., -0.21656679,\n",
       "        -0.88496718, -0.07504356],\n",
       "       [-1.24475223,  0.44742824,  0.71602461, ..., -0.21656679,\n",
       "        -0.88496718, -0.07504356],\n",
       "       [ 1.68960003,  0.44742824,  0.71602461, ..., -0.21656679,\n",
       "         1.12998541, -0.07504356]])"
      ]
     },
     "execution_count": 143,
     "metadata": {},
     "output_type": "execute_result"
    }
   ],
   "source": [
    "#get numerical columns\n",
    "reviews = reviews[['clothing_id', 'age', 'recommended', 'rating', 'Bottoms', 'Dresses', \n",
    "                   'Intimate', 'Jackets', 'Tops', 'Trend']].copy()\n",
    "#reset index\n",
    "\n",
    "reviews = reviews.set_index('clothing_id')\n",
    "\n",
    "#instantiate standard scaler\n",
    "scaler = StandardScaler()\n",
    "\n",
    "#fit transform data\n",
    "scaler.fit_transform(reviews)"
   ]
  },
  {
   "cell_type": "code",
   "execution_count": null,
   "metadata": {},
   "outputs": [],
   "source": []
  }
 ],
 "metadata": {
  "kernelspec": {
   "display_name": "sklearn-env",
   "language": "python",
   "name": "python3"
  },
  "language_info": {
   "codemirror_mode": {
    "name": "ipython",
    "version": 3
   },
   "file_extension": ".py",
   "mimetype": "text/x-python",
   "name": "python",
   "nbconvert_exporter": "python",
   "pygments_lexer": "ipython3",
   "version": "3.11.4"
  },
  "orig_nbformat": 4
 },
 "nbformat": 4,
 "nbformat_minor": 2
}
