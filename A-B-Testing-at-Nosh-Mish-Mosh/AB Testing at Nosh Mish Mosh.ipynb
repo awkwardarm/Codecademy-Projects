{
 "cells": [
  {
   "cell_type": "code",
   "execution_count": 34,
   "metadata": {},
   "outputs": [],
   "source": [
    "import noshmishmosh\n",
    "import numpy as np"
   ]
  },
  {
   "cell_type": "markdown",
   "metadata": {},
   "source": [
    "\n",
    "Nosh Mish Mosh wants to run an experiment to see if we can convince more people to purchase meal plans if we use a more artisanal-looking vegetable selection. We’ve photographed these modern meals with blush tomatoes and graffiti eggplants, but aren’t sure if this strategy will sell enough units to benefit from establishing a business relationship with a new provider.\n",
    "\n",
    "Before running this experiment, of course, we need to know the sample size that will be required to detect the difference we are hoping for. There are three things we need to know before we can determine that number.\n",
    "\n",
    "the Baseline Conversion Rate\n",
    "Minimum Detectable Effect (desired lift)\n",
    "and the Statistical Significance Threshold"
   ]
  },
  {
   "cell_type": "code",
   "execution_count": 35,
   "metadata": {},
   "outputs": [
    {
     "name": "stdout",
     "output_type": "stream",
     "text": [
      "18.6\n"
     ]
    }
   ],
   "source": [
    "# How many users visit the site in a typical week?\n",
    "all_visitors = noshmishmosh.customer_visits\n",
    "total_visitor_count = len(all_visitors)\n",
    "\n",
    "# How many visitors end up buying a meal or a set of meals in a typical week?\n",
    "paying_visitors = noshmishmosh.purchasing_customers\n",
    "paying_visitor_count = len(paying_visitors)\n",
    "\n",
    "baseline_percent = paying_visitor_count/total_visitor_count*100.0\n",
    "print(baseline_percent)"
   ]
  },
  {
   "cell_type": "markdown",
   "metadata": {},
   "source": [
    "## Determining effect size"
   ]
  },
  {
   "cell_type": "code",
   "execution_count": 36,
   "metadata": {},
   "outputs": [
    {
     "name": "stdout",
     "output_type": "stream",
     "text": [
      "26.543655913978498\n",
      "47.0\n"
     ]
    }
   ],
   "source": [
    "# How much we need per week to cover the cost of the potatoes.\n",
    "additional_weekly_revenue_needed = 1240\n",
    "\n",
    "payment_history = noshmishmosh.money_spent\n",
    "average_payment = np.mean(payment_history)\n",
    "print(average_payment)\n",
    "\n",
    "new_customers_needed = np.ceil(additional_weekly_revenue_needed/average_payment)\n",
    "print(new_customers_needed)"
   ]
  },
  {
   "cell_type": "markdown",
   "metadata": {},
   "source": [
    "Now find the additional percent of weekly visitors who must make a purchase in order to make this change worthwhile. Do this by dividing the number of customers by the total visitor count for a typical week (calculated earlier), and multiplying by 100. Save the result in a variable called percentage_point_increase. Print percentage_point_increase to see what it is."
   ]
  },
  {
   "cell_type": "code",
   "execution_count": 37,
   "metadata": {},
   "outputs": [
    {
     "name": "stdout",
     "output_type": "stream",
     "text": [
      "9.4\n"
     ]
    }
   ],
   "source": [
    "percentage_point_increase = new_customers_needed/total_visitor_count*100.0\n",
    "print(percentage_point_increase)"
   ]
  },
  {
   "cell_type": "markdown",
   "metadata": {},
   "source": [
    "\n",
    "In order to find our minimum detectable effect/desired lift, we need to express percentage_point_increase as a percent of baseline_percent. You can do this by dividing percentage_point_increase by baseline_percent and multiplying by 100.0.\n",
    "\n",
    "Store the results in a variable called mde."
   ]
  },
  {
   "cell_type": "code",
   "execution_count": 38,
   "metadata": {},
   "outputs": [
    {
     "name": "stdout",
     "output_type": "stream",
     "text": [
      "50.53763440860215\n"
     ]
    }
   ],
   "source": [
    "mde = percentage_point_increase/baseline_percent*100.0\n",
    "print(mde)"
   ]
  },
  {
   "cell_type": "code",
   "execution_count": 39,
   "metadata": {},
   "outputs": [],
   "source": [
    "significance_threshold = 0.10"
   ]
  },
  {
   "cell_type": "code",
   "execution_count": 40,
   "metadata": {},
   "outputs": [],
   "source": [
    "ab_sample_size = 500"
   ]
  },
  {
   "cell_type": "code",
   "execution_count": null,
   "metadata": {},
   "outputs": [],
   "source": []
  }
 ],
 "metadata": {
  "kernelspec": {
   "display_name": "base",
   "language": "python",
   "name": "python3"
  },
  "language_info": {
   "codemirror_mode": {
    "name": "ipython",
    "version": 3
   },
   "file_extension": ".py",
   "mimetype": "text/x-python",
   "name": "python",
   "nbconvert_exporter": "python",
   "pygments_lexer": "ipython3",
   "version": "3.11.4"
  },
  "orig_nbformat": 4
 },
 "nbformat": 4,
 "nbformat_minor": 2
}
