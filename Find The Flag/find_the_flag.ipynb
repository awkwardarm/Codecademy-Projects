{
 "cells": [
  {
   "cell_type": "code",
   "execution_count": 40,
   "metadata": {},
   "outputs": [],
   "source": [
    "import seaborn as sns\n",
    "import pandas as pd\n",
    "import numpy as np\n",
    "from sklearn.model_selection import train_test_split\n",
    "import matplotlib.pyplot as plt\n",
    "from sklearn.tree import DecisionTreeClassifier\n",
    "from sklearn import tree\n",
    "\n",
    "#https://archive.ics.uci.edu/ml/machine-learning-databases/flags/flag.data\n",
    "\n",
    "# create column names\n",
    "cols = ['name','landmass','zone', 'area', 'population', 'language','religion','bars','stripes','colours',\n",
    "'red','green','blue','gold','white','black','orange','mainhue','circles',\n",
    "'crosses','saltires','quarters','sunstars','crescent','triangle','icon','animate','text','topleft','botright']\n",
    "\n",
    "# create dataframe with column names from cols\n",
    "df= pd.read_csv(\"https://archive.ics.uci.edu/ml/machine-learning-databases/flags/flag.data\", names = cols)\n",
    "\n",
    "#variable names to use as predictors, 'mainhue' was removed because it is a list os objects\n",
    "var = ['red', 'green', 'blue','gold', 'white', 'black', 'orange',\n",
    "       'bars','stripes', 'circles','crosses', 'saltires',\n",
    "       'quarters','sunstars','triangle','animate']"
   ]
  },
  {
   "cell_type": "code",
   "execution_count": 41,
   "metadata": {},
   "outputs": [
    {
     "name": "stdout",
     "output_type": "stream",
     "text": [
      "               red  green      blue      gold     white     black    orange  \\\n",
      "landmass                                                                      \n",
      "3         0.828571    0.2  0.514286  0.428571  0.771429  0.171429  0.057143   \n",
      "6         0.800000    0.2  0.800000  0.600000  0.950000  0.150000  0.150000   \n",
      "\n",
      "              bars   stripes   circles   crosses  saltires  quarters  \\\n",
      "landmass                                                               \n",
      "3         0.628571  1.285714  0.028571  0.285714  0.028571  0.028571   \n",
      "6         0.000000  0.400000  0.150000  0.400000  0.300000  0.400000   \n",
      "\n",
      "          sunstars  triangle   animate  \n",
      "landmass                                \n",
      "3         0.142857  0.028571  0.114286  \n",
      "6         3.300000  0.250000  0.300000  \n"
     ]
    }
   ],
   "source": [
    "#Print number of countries by landmass, or continent\n",
    "land_mass_flag_count = df['landmass'].value_counts()\n",
    "\n",
    "# create dataframe of only Europe and Oceania\n",
    "df_europe_oceania = df[(df['landmass'] == 3) | (df['landmass'] == 6)]\n",
    "\n",
    "# print average values of var for df_europe_oceania\n",
    "average_var = df_europe_oceania.groupby('landmass')[var].mean()\n",
    "print(average_var)"
   ]
  },
  {
   "cell_type": "code",
   "execution_count": 66,
   "metadata": {},
   "outputs": [],
   "source": [
    "# copy dataframe\n",
    "data = df.copy()\n",
    "\n",
    "# get dummies on object columns\n",
    "cols = ['mainhue', 'topleft', 'botright']\n",
    "ohe = pd.get_dummies(df[cols])*1\n",
    "\n",
    "# join to data\n",
    "data = data.join(ohe)\n",
    "\n",
    "#drop columns from cols list\n",
    "data = data.drop(columns=cols)\n",
    "\n",
    "# create predictors\n",
    "X = data.drop(columns='landmass')\n",
    "\n",
    "# create array of labels and convert to binary '*1'\n",
    "labels = (df['landmass'].isin([3,6]))*1\n",
    "\n",
    "# split the dataG\n",
    "x_train, y_train, x_test, y_test = train_test_split(X, labels)"
   ]
  },
  {
   "cell_type": "code",
   "execution_count": null,
   "metadata": {},
   "outputs": [],
   "source": []
  },
  {
   "cell_type": "code",
   "execution_count": null,
   "metadata": {},
   "outputs": [],
   "source": []
  }
 ],
 "metadata": {
  "kernelspec": {
   "display_name": "tryba-env",
   "language": "python",
   "name": "python3"
  },
  "language_info": {
   "codemirror_mode": {
    "name": "ipython",
    "version": 3
   },
   "file_extension": ".py",
   "mimetype": "text/x-python",
   "name": "python",
   "nbconvert_exporter": "python",
   "pygments_lexer": "ipython3",
   "version": "3.10.13"
  },
  "orig_nbformat": 4
 },
 "nbformat": 4,
 "nbformat_minor": 2
}
