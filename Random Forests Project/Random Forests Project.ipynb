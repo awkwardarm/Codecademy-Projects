{
 "cells": [
  {
   "cell_type": "code",
   "execution_count": 112,
   "metadata": {},
   "outputs": [],
   "source": [
    "import pandas as pd\n",
    "import numpy as np\n",
    "import matplotlib.pyplot as plt\n",
    "import seaborn as sns\n",
    "from sklearn.model_selection import train_test_split\n",
    "from sklearn.tree import DecisionTreeClassifier\n",
    "from sklearn.ensemble import RandomForestClassifier, BaggingClassifier, RandomForestRegressor\n",
    "from sklearn import tree\n",
    "from sklearn.linear_model import LogisticRegression\n",
    "from sklearn.metrics import accuracy_score, precision_score, recall_score, f1_score, roc_auc_score\n",
    "\n",
    "col_names = ['age', 'workclass', 'fnlwgt','education', 'education-num', \n",
    "'marital-status', 'occupation', 'relationship', 'race', 'sex',\n",
    "'capital-gain','capital-loss', 'hours-per-week','native-country', 'income']\n",
    "\n",
    "df = pd.read_csv('adult.data.csv', header=None, names = col_names)"
   ]
  },
  {
   "cell_type": "markdown",
   "metadata": {},
   "source": [
    "The dataset has been loaded for you in script.py and saved as a dataframe named df. Some of the input and output features of interest are:\n",
    "\n",
    "-`age`: continuous  \n",
    "-`workclass`: Private, Self-emp-not-inc, Self-emp-inc, Federal-gov, Local-gov, State-gov, Without-pay, Never-worked.  \n",
    "-`education`: Bachelors, Some-college, 11th, HS-grad, Prof-school, Assoc-acdm, Assoc-voc, 9th, 7th-8th, 12th,   -Masters, 1st-4th, 10th, Doctorate, 5th-6th, Preschool  \n",
    "-`race`: White, Asian-Pac-Islander, Amer-Indian-Eskimo, Other, Black  \n",
    "-`sex`: Female, Male  \n",
    "-`capital-gain`: continuous  \n",
    "-`capital-loss`: continuous  \n",
    "-`hours-per-week`: continuous  \n",
    "-`native country`: discrete  \n",
    "-`income`: discrete, >50K, <=50K  "
   ]
  },
  {
   "cell_type": "code",
   "execution_count": 113,
   "metadata": {},
   "outputs": [
    {
     "data": {
      "text/html": [
       "<div>\n",
       "<style scoped>\n",
       "    .dataframe tbody tr th:only-of-type {\n",
       "        vertical-align: middle;\n",
       "    }\n",
       "\n",
       "    .dataframe tbody tr th {\n",
       "        vertical-align: top;\n",
       "    }\n",
       "\n",
       "    .dataframe thead th {\n",
       "        text-align: right;\n",
       "    }\n",
       "</style>\n",
       "<table border=\"1\" class=\"dataframe\">\n",
       "  <thead>\n",
       "    <tr style=\"text-align: right;\">\n",
       "      <th></th>\n",
       "      <th>age</th>\n",
       "      <th>fnlwgt</th>\n",
       "      <th>education-num</th>\n",
       "      <th>capital-gain</th>\n",
       "      <th>capital-loss</th>\n",
       "      <th>hours-per-week</th>\n",
       "    </tr>\n",
       "  </thead>\n",
       "  <tbody>\n",
       "    <tr>\n",
       "      <th>count</th>\n",
       "      <td>32561.000000</td>\n",
       "      <td>3.256100e+04</td>\n",
       "      <td>32561.000000</td>\n",
       "      <td>32561.000000</td>\n",
       "      <td>32561.000000</td>\n",
       "      <td>32561.000000</td>\n",
       "    </tr>\n",
       "    <tr>\n",
       "      <th>mean</th>\n",
       "      <td>38.581647</td>\n",
       "      <td>1.897784e+05</td>\n",
       "      <td>10.080679</td>\n",
       "      <td>1077.648844</td>\n",
       "      <td>87.303830</td>\n",
       "      <td>40.437456</td>\n",
       "    </tr>\n",
       "    <tr>\n",
       "      <th>std</th>\n",
       "      <td>13.640433</td>\n",
       "      <td>1.055500e+05</td>\n",
       "      <td>2.572720</td>\n",
       "      <td>7385.292085</td>\n",
       "      <td>402.960219</td>\n",
       "      <td>12.347429</td>\n",
       "    </tr>\n",
       "    <tr>\n",
       "      <th>min</th>\n",
       "      <td>17.000000</td>\n",
       "      <td>1.228500e+04</td>\n",
       "      <td>1.000000</td>\n",
       "      <td>0.000000</td>\n",
       "      <td>0.000000</td>\n",
       "      <td>1.000000</td>\n",
       "    </tr>\n",
       "    <tr>\n",
       "      <th>25%</th>\n",
       "      <td>28.000000</td>\n",
       "      <td>1.178270e+05</td>\n",
       "      <td>9.000000</td>\n",
       "      <td>0.000000</td>\n",
       "      <td>0.000000</td>\n",
       "      <td>40.000000</td>\n",
       "    </tr>\n",
       "    <tr>\n",
       "      <th>50%</th>\n",
       "      <td>37.000000</td>\n",
       "      <td>1.783560e+05</td>\n",
       "      <td>10.000000</td>\n",
       "      <td>0.000000</td>\n",
       "      <td>0.000000</td>\n",
       "      <td>40.000000</td>\n",
       "    </tr>\n",
       "    <tr>\n",
       "      <th>75%</th>\n",
       "      <td>48.000000</td>\n",
       "      <td>2.370510e+05</td>\n",
       "      <td>12.000000</td>\n",
       "      <td>0.000000</td>\n",
       "      <td>0.000000</td>\n",
       "      <td>45.000000</td>\n",
       "    </tr>\n",
       "    <tr>\n",
       "      <th>max</th>\n",
       "      <td>90.000000</td>\n",
       "      <td>1.484705e+06</td>\n",
       "      <td>16.000000</td>\n",
       "      <td>99999.000000</td>\n",
       "      <td>4356.000000</td>\n",
       "      <td>99.000000</td>\n",
       "    </tr>\n",
       "  </tbody>\n",
       "</table>\n",
       "</div>"
      ],
      "text/plain": [
       "                age        fnlwgt  education-num  capital-gain  capital-loss  \\\n",
       "count  32561.000000  3.256100e+04   32561.000000  32561.000000  32561.000000   \n",
       "mean      38.581647  1.897784e+05      10.080679   1077.648844     87.303830   \n",
       "std       13.640433  1.055500e+05       2.572720   7385.292085    402.960219   \n",
       "min       17.000000  1.228500e+04       1.000000      0.000000      0.000000   \n",
       "25%       28.000000  1.178270e+05       9.000000      0.000000      0.000000   \n",
       "50%       37.000000  1.783560e+05      10.000000      0.000000      0.000000   \n",
       "75%       48.000000  2.370510e+05      12.000000      0.000000      0.000000   \n",
       "max       90.000000  1.484705e+06      16.000000  99999.000000   4356.000000   \n",
       "\n",
       "       hours-per-week  \n",
       "count    32561.000000  \n",
       "mean        40.437456  \n",
       "std         12.347429  \n",
       "min          1.000000  \n",
       "25%         40.000000  \n",
       "50%         40.000000  \n",
       "75%         45.000000  \n",
       "max         99.000000  "
      ]
     },
     "execution_count": 113,
     "metadata": {},
     "output_type": "execute_result"
    }
   ],
   "source": [
    "df.describe()"
   ]
  },
  {
   "cell_type": "code",
   "execution_count": 114,
   "metadata": {},
   "outputs": [
    {
     "data": {
      "text/plain": [
       "income\n",
       " <=50K    0.75919\n",
       " >50K     0.24081\n",
       "Name: proportion, dtype: float64"
      ]
     },
     "execution_count": 114,
     "metadata": {},
     "output_type": "execute_result"
    }
   ],
   "source": [
    "#Distribution of income\n",
    "df['income'].value_counts(normalize=True)"
   ]
  },
  {
   "cell_type": "code",
   "execution_count": 115,
   "metadata": {},
   "outputs": [],
   "source": [
    "#Clean columns by stripping extra whitespace for columns of type \"object\"\n",
    "\n",
    "# Create list of columns that are objects\n",
    "object_columns_list = df.select_dtypes(include=['object']).columns.tolist()\n",
    "\n",
    "# Iterate through columns list and strip whitespace\n",
    "for column in object_columns_list:\n",
    "    df[column] = df[column].str.strip()"
   ]
  },
  {
   "cell_type": "code",
   "execution_count": 116,
   "metadata": {},
   "outputs": [],
   "source": [
    "#Create feature dataframe X with feature columns and dummy variables for categorical features\n",
    "\n",
    "# List of features to one hot encode\n",
    "ohe_features = ['workclass', 'education', 'marital-status',\n",
    "                'occupation', 'relationship', 'race', 'sex', 'native-country']\n",
    "\n",
    "# One Hot Encode Categorical Columns that are objects\n",
    "ohe = pd.get_dummies(df[ohe_features], drop_first=True)\n",
    "\n",
    "# Create list of columns to drop and add income to list\n",
    "columns_to_drop = ohe_features\n",
    "columns_to_drop.append('income')\n",
    "\n",
    "# Remove categorical features for later joining with ohe\n",
    "df_no_categorical = df.drop(columns = columns_to_drop)\n",
    "\n",
    "# Create Matrix X by joining df_no_categorical and ohe\n",
    "X = df_no_categorical.join(ohe)\n",
    "\n",
    "#Create output variable y which is binary, 0 when income is less than 50k, 1 when it is greater than 50k\n",
    "y = np.where((df['income'] == '<=50K'), 0, 1) \n",
    "\n",
    "#Split data into a train and test set\n",
    "x_train, x_test, y_train, y_test = train_test_split(X, y, random_state=42, test_size=0.20)"
   ]
  },
  {
   "cell_type": "code",
   "execution_count": 117,
   "metadata": {},
   "outputs": [
    {
     "name": "stdout",
     "output_type": "stream",
     "text": [
      "Baseline accuracy score: 0.861200675571933\n"
     ]
    }
   ],
   "source": [
    "#Instantiate random forest classifier, fit and score with default parameters\n",
    "rf = RandomForestClassifier()\n",
    "rf.fit(x_train, y_train)\n",
    "\n",
    "# Score model\n",
    "rf_score = rf.score(x_test, y_test)\n",
    "print(f'Baseline accuracy score: {rf_score}')"
   ]
  },
  {
   "cell_type": "code",
   "execution_count": 118,
   "metadata": {},
   "outputs": [],
   "source": [
    "#Tune the hyperparameter max_depth over a range from 1-25, save scores for test and train set\n",
    "\n",
    "# Create empty lists for scores\n",
    "accuracy_train = []\n",
    "accuracy_test = []\n",
    "\n",
    "# Iterate through depths between 1 and 25 and append scores to lists\n",
    "for depth in range(1,26):\n",
    "    rf = RandomForestClassifier(max_depth=depth)\n",
    "    rf.fit(x_train, y_train)\n",
    "    accuracy_train.append(rf.score(x_train, y_train))\n",
    "    accuracy_test.append(rf.score(x_test, y_test))"
   ]
  },
  {
   "cell_type": "code",
   "execution_count": 119,
   "metadata": {},
   "outputs": [
    {
     "name": "stdout",
     "output_type": "stream",
     "text": [
      "The largest accuracy is 0.866421004145555 and it occurs at depth 22\n"
     ]
    }
   ],
   "source": [
    "# Find the largest accuracy and the depth this occurs on the test data.\n",
    "largest_accuracy = max(accuracy_test)\n",
    "best_depth = accuracy_test.index(largest_accuracy) + 1 # +1 account for index starting at 0\n",
    "\n",
    "print(f'The largest accuracy is {largest_accuracy} and it occurs at depth {best_depth}')"
   ]
  },
  {
   "cell_type": "code",
   "execution_count": 120,
   "metadata": {},
   "outputs": [
    {
     "data": {
      "image/png": "[encoded data removed]",
      "text/plain": [
       "<Figure size 640x480 with 1 Axes>"
      ]
     },
     "metadata": {},
     "output_type": "display_data"
    }
   ],
   "source": [
    "# Plot the training and test accuracy of the models versus the max_depth\n",
    "x_depths = [x for x in range(1, 26)]\n",
    "\n",
    "plt.plot(x_depths, accuracy_test, 'bo--')\n",
    "plt.plot(x_depths, accuracy_train, 'ys-')\n",
    "plt.legend(['Test Accuracy', 'Train Accuracy'])\n",
    "plt.title('Depths vs Scores')\n",
    "plt.xlabel('Depth')\n",
    "plt.ylabel('Score')\n",
    "plt.show()"
   ]
  },
  {
   "cell_type": "code",
   "execution_count": 121,
   "metadata": {},
   "outputs": [
    {
     "data": {
      "text/html": [
       "<div>\n",
       "<style scoped>\n",
       "    .dataframe tbody tr th:only-of-type {\n",
       "        vertical-align: middle;\n",
       "    }\n",
       "\n",
       "    .dataframe tbody tr th {\n",
       "        vertical-align: top;\n",
       "    }\n",
       "\n",
       "    .dataframe thead th {\n",
       "        text-align: right;\n",
       "    }\n",
       "</style>\n",
       "<table border=\"1\" class=\"dataframe\">\n",
       "  <thead>\n",
       "    <tr style=\"text-align: right;\">\n",
       "      <th></th>\n",
       "      <th>feature_names</th>\n",
       "      <th>feature_importances</th>\n",
       "    </tr>\n",
       "  </thead>\n",
       "  <tbody>\n",
       "    <tr>\n",
       "      <th>0</th>\n",
       "      <td>capital-gain</td>\n",
       "      <td>0.132710</td>\n",
       "    </tr>\n",
       "    <tr>\n",
       "      <th>1</th>\n",
       "      <td>marital-status_Married-civ-spouse</td>\n",
       "      <td>0.122411</td>\n",
       "    </tr>\n",
       "    <tr>\n",
       "      <th>2</th>\n",
       "      <td>age</td>\n",
       "      <td>0.103666</td>\n",
       "    </tr>\n",
       "    <tr>\n",
       "      <th>3</th>\n",
       "      <td>education-num</td>\n",
       "      <td>0.093020</td>\n",
       "    </tr>\n",
       "    <tr>\n",
       "      <th>4</th>\n",
       "      <td>fnlwgt</td>\n",
       "      <td>0.079189</td>\n",
       "    </tr>\n",
       "  </tbody>\n",
       "</table>\n",
       "</div>"
      ],
      "text/plain": [
       "                       feature_names  feature_importances\n",
       "0                       capital-gain             0.132710\n",
       "1  marital-status_Married-civ-spouse             0.122411\n",
       "2                                age             0.103666\n",
       "3                      education-num             0.093020\n",
       "4                             fnlwgt             0.079189"
      ]
     },
     "execution_count": 121,
     "metadata": {},
     "output_type": "execute_result"
    }
   ],
   "source": [
    "# Save the best random forest model and save the feature importances in a dataframe\n",
    "best_rf = RandomForestClassifier(max_depth=best_depth)\n",
    "\n",
    "# Fit the data\n",
    "best_rf.fit(x_train, y_train)\n",
    "\n",
    "# Extract feature names and importances to lists\n",
    "feature_names = best_rf.feature_names_in_.tolist()\n",
    "feature_importances = best_rf.feature_importances_.tolist()\n",
    "\n",
    "# Create dataframe of feature names and importances\n",
    "feature_df = pd.DataFrame(data={'feature_names':feature_names, \n",
    "                                'feature_importances':feature_importances})\n",
    "\n",
    "# Sort dataframe by descending order of importances\n",
    "feature_df.sort_values('feature_importances', \n",
    "                       ascending=False, \n",
    "                       ignore_index=True).head(5)\n"
   ]
  },
  {
   "cell_type": "code",
   "execution_count": 136,
   "metadata": {},
   "outputs": [],
   "source": [
    "# Create list of education values\n",
    "education_values = df['education-num'].unique().tolist()\n",
    "\n",
    "'''\n",
    "Bin education levels into 3 bins: \"Masters and more,\" \"College to Bachelors,\" \n",
    "\"High school and less\"\n",
    "'''\n",
    "\n",
    "# Create function to bin values\n",
    "def edu_bin(x):\n",
    "    if x <= 16 and x > 13:\n",
    "        return 'Masters and more'\n",
    "    elif x <= 13 and x > 9:\n",
    "        return 'College to Bachelors'\n",
    "    elif x <= 9:\n",
    "        return 'High school and less'\n",
    "    else:\n",
    "        return 'NaN'\n",
    "\n",
    "# create new binned feature        \n",
    "df['education_bin'] = df['education-num'].apply(edu_bin)\n",
    "\n",
    "# Re-Create feature dataframe X with feature columns and dummy variables for categorical features\n",
    "# List of features to one hot encode\n",
    "ohe_features2 = ['workclass', 'education_bin', 'marital-status',\n",
    "                'occupation', 'relationship', 'race', 'sex', 'native-country']\n",
    "\n",
    "# One Hot Encode Categorical Columns that are objects\n",
    "ohe2 = pd.get_dummies(df[ohe_features2], drop_first=True)\n",
    "\n",
    "# Create list of columns to drop and add income to list\n",
    "columns_to_drop2 = ohe_features2\n",
    "additional_columns_to_drop = ['income', 'education', 'education-num']\n",
    "\n",
    "# add additional columns to drop to main drop list\n",
    "for column in additional_columns_to_drop:\n",
    "    columns_to_drop2.append(column)\n",
    "\n",
    "# Remove categorical features for later joining with ohe\n",
    "df_no_categorical2 = df.drop(columns = columns_to_drop2)\n",
    "\n",
    "# Create Matrix X by joining df_no_categorical and ohe\n",
    "X2 = df_no_categorical2.join(ohe2)\n",
    "\n",
    "#Split data into a train and test set\n",
    "x_train, x_test, y_train, y_test = train_test_split(X2, y, random_state=42, test_size=0.20)"
   ]
  },
  {
   "cell_type": "code",
   "execution_count": 137,
   "metadata": {},
   "outputs": [],
   "source": [
    "#  Fit a random forest classifier for max_depth values from 1-25\n",
    "\n",
    "# Create empty lists for scores\n",
    "accuracy_train = []\n",
    "accuracy_test = []\n",
    "\n",
    "# Iterate through depths between 1 and 25 and append scores to lists\n",
    "for depth in range(1,26):\n",
    "    rf = RandomForestClassifier(max_depth=depth)\n",
    "    rf.fit(x_train, y_train)\n",
    "    accuracy_train.append(rf.score(x_train, y_train))\n",
    "    accuracy_test.append(rf.score(x_test, y_test))"
   ]
  },
  {
   "cell_type": "code",
   "execution_count": 138,
   "metadata": {},
   "outputs": [
    {
     "name": "stdout",
     "output_type": "stream",
     "text": [
      "The largest accuracy is 0.8705665591893137 and it occurs at depth 20\n"
     ]
    }
   ],
   "source": [
    "# Find the largest accuracy and the depth this occurs on the test data.\n",
    "largest_accuracy = max(accuracy_test)\n",
    "best_depth = accuracy_test.index(largest_accuracy) + 1 # +1 account for index starting at 0\n",
    "\n",
    "print(f'The largest accuracy is {largest_accuracy} and it occurs at depth {best_depth}')"
   ]
  },
  {
   "cell_type": "code",
   "execution_count": 139,
   "metadata": {},
   "outputs": [
    {
     "data": {
      "image/png": "[encoded data removed]",
      "text/plain": [
       "<Figure size 640x480 with 1 Axes>"
      ]
     },
     "metadata": {},
     "output_type": "display_data"
    }
   ],
   "source": [
    "# Plot the training and test accuracy of the models versus the max_depth\n",
    "x_depths = [x for x in range(1, 26)]\n",
    "\n",
    "plt.plot(x_depths, accuracy_test, 'bo--')\n",
    "plt.plot(x_depths, accuracy_train, 'ys-')\n",
    "plt.legend(['Test Accuracy', 'Train Accuracy'])\n",
    "plt.title('Depths vs Scores')\n",
    "plt.xlabel('Depth')\n",
    "plt.ylabel('Score')\n",
    "plt.show()"
   ]
  },
  {
   "cell_type": "code",
   "execution_count": 140,
   "metadata": {},
   "outputs": [
    {
     "data": {
      "text/html": [
       "<div>\n",
       "<style scoped>\n",
       "    .dataframe tbody tr th:only-of-type {\n",
       "        vertical-align: middle;\n",
       "    }\n",
       "\n",
       "    .dataframe tbody tr th {\n",
       "        vertical-align: top;\n",
       "    }\n",
       "\n",
       "    .dataframe thead th {\n",
       "        text-align: right;\n",
       "    }\n",
       "</style>\n",
       "<table border=\"1\" class=\"dataframe\">\n",
       "  <thead>\n",
       "    <tr style=\"text-align: right;\">\n",
       "      <th></th>\n",
       "      <th>feature_names</th>\n",
       "      <th>feature_importances</th>\n",
       "    </tr>\n",
       "  </thead>\n",
       "  <tbody>\n",
       "    <tr>\n",
       "      <th>0</th>\n",
       "      <td>capital-gain</td>\n",
       "      <td>0.146633</td>\n",
       "    </tr>\n",
       "    <tr>\n",
       "      <th>1</th>\n",
       "      <td>marital-status_Married-civ-spouse</td>\n",
       "      <td>0.136684</td>\n",
       "    </tr>\n",
       "    <tr>\n",
       "      <th>2</th>\n",
       "      <td>age</td>\n",
       "      <td>0.104164</td>\n",
       "    </tr>\n",
       "    <tr>\n",
       "      <th>3</th>\n",
       "      <td>fnlwgt</td>\n",
       "      <td>0.073085</td>\n",
       "    </tr>\n",
       "    <tr>\n",
       "      <th>4</th>\n",
       "      <td>hours-per-week</td>\n",
       "      <td>0.068652</td>\n",
       "    </tr>\n",
       "  </tbody>\n",
       "</table>\n",
       "</div>"
      ],
      "text/plain": [
       "                       feature_names  feature_importances\n",
       "0                       capital-gain             0.146633\n",
       "1  marital-status_Married-civ-spouse             0.136684\n",
       "2                                age             0.104164\n",
       "3                             fnlwgt             0.073085\n",
       "4                     hours-per-week             0.068652"
      ]
     },
     "execution_count": 140,
     "metadata": {},
     "output_type": "execute_result"
    }
   ],
   "source": [
    "# Save the best random forest model and save the feature importances in a dataframe\n",
    "best_rf = RandomForestClassifier(max_depth=best_depth)\n",
    "\n",
    "# Fit the data\n",
    "best_rf.fit(x_train, y_train)\n",
    "\n",
    "# Extract feature names and importances to lists\n",
    "feature_names = best_rf.feature_names_in_.tolist()\n",
    "feature_importances = best_rf.feature_importances_.tolist()\n",
    "\n",
    "# Create dataframe of feature names and importances\n",
    "feature_df = pd.DataFrame(data={'feature_names':feature_names, \n",
    "                                'feature_importances':feature_importances})\n",
    "\n",
    "# Sort dataframe by descending order of importances\n",
    "feature_df.sort_values('feature_importances', \n",
    "                       ascending=False, \n",
    "                       ignore_index=True).head(5)"
   ]
  },
  {
   "cell_type": "code",
   "execution_count": null,
   "metadata": {},
   "outputs": [],
   "source": []
  }
 ],
 "metadata": {
  "kernelspec": {
   "display_name": "tryba-env",
   "language": "python",
   "name": "python3"
  },
  "language_info": {
   "codemirror_mode": {
    "name": "ipython",
    "version": 3
   },
   "file_extension": ".py",
   "mimetype": "text/x-python",
   "name": "python",
   "nbconvert_exporter": "python",
   "pygments_lexer": "ipython3",
   "version": "3.10.13"
  }
 },
 "nbformat": 4,
 "nbformat_minor": 2
}
