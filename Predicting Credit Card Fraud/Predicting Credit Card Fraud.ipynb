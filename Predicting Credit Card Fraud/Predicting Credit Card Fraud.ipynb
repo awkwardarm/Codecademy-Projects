{
 "cells": [
  {
   "cell_type": "code",
   "execution_count": 1,
   "metadata": {},
   "outputs": [
    {
     "data": {
      "text/html": [
       "<div>\n",
       "<style scoped>\n",
       "    .dataframe tbody tr th:only-of-type {\n",
       "        vertical-align: middle;\n",
       "    }\n",
       "\n",
       "    .dataframe tbody tr th {\n",
       "        vertical-align: top;\n",
       "    }\n",
       "\n",
       "    .dataframe thead th {\n",
       "        text-align: right;\n",
       "    }\n",
       "</style>\n",
       "<table border=\"1\" class=\"dataframe\">\n",
       "  <thead>\n",
       "    <tr style=\"text-align: right;\">\n",
       "      <th></th>\n",
       "      <th>step</th>\n",
       "      <th>type</th>\n",
       "      <th>amount</th>\n",
       "      <th>nameOrig</th>\n",
       "      <th>oldbalanceOrg</th>\n",
       "      <th>newbalanceOrig</th>\n",
       "      <th>nameDest</th>\n",
       "      <th>oldbalanceDest</th>\n",
       "      <th>newbalanceDest</th>\n",
       "      <th>isFraud</th>\n",
       "    </tr>\n",
       "  </thead>\n",
       "  <tbody>\n",
       "    <tr>\n",
       "      <th>0</th>\n",
       "      <td>8</td>\n",
       "      <td>CASH_OUT</td>\n",
       "      <td>158007.12</td>\n",
       "      <td>C424875646</td>\n",
       "      <td>0.00</td>\n",
       "      <td>0.00</td>\n",
       "      <td>C1298177219</td>\n",
       "      <td>474016.32</td>\n",
       "      <td>1618631.97</td>\n",
       "      <td>0</td>\n",
       "    </tr>\n",
       "    <tr>\n",
       "      <th>1</th>\n",
       "      <td>236</td>\n",
       "      <td>CASH_OUT</td>\n",
       "      <td>457948.30</td>\n",
       "      <td>C1342616552</td>\n",
       "      <td>0.00</td>\n",
       "      <td>0.00</td>\n",
       "      <td>C1323169990</td>\n",
       "      <td>2720411.37</td>\n",
       "      <td>3178359.67</td>\n",
       "      <td>0</td>\n",
       "    </tr>\n",
       "    <tr>\n",
       "      <th>2</th>\n",
       "      <td>37</td>\n",
       "      <td>CASH_IN</td>\n",
       "      <td>153602.99</td>\n",
       "      <td>C900876541</td>\n",
       "      <td>11160428.67</td>\n",
       "      <td>11314031.67</td>\n",
       "      <td>C608741097</td>\n",
       "      <td>3274930.56</td>\n",
       "      <td>3121327.56</td>\n",
       "      <td>0</td>\n",
       "    </tr>\n",
       "    <tr>\n",
       "      <th>3</th>\n",
       "      <td>331</td>\n",
       "      <td>CASH_OUT</td>\n",
       "      <td>49555.14</td>\n",
       "      <td>C177696810</td>\n",
       "      <td>10865.00</td>\n",
       "      <td>0.00</td>\n",
       "      <td>C462716348</td>\n",
       "      <td>0.00</td>\n",
       "      <td>49555.14</td>\n",
       "      <td>0</td>\n",
       "    </tr>\n",
       "    <tr>\n",
       "      <th>4</th>\n",
       "      <td>250</td>\n",
       "      <td>CASH_OUT</td>\n",
       "      <td>29648.02</td>\n",
       "      <td>C788941490</td>\n",
       "      <td>0.00</td>\n",
       "      <td>0.00</td>\n",
       "      <td>C1971700992</td>\n",
       "      <td>56933.09</td>\n",
       "      <td>86581.10</td>\n",
       "      <td>0</td>\n",
       "    </tr>\n",
       "  </tbody>\n",
       "</table>\n",
       "</div>"
      ],
      "text/plain": [
       "   step      type     amount     nameOrig  oldbalanceOrg  newbalanceOrig  \\\n",
       "0     8  CASH_OUT  158007.12   C424875646           0.00            0.00   \n",
       "1   236  CASH_OUT  457948.30  C1342616552           0.00            0.00   \n",
       "2    37   CASH_IN  153602.99   C900876541    11160428.67     11314031.67   \n",
       "3   331  CASH_OUT   49555.14   C177696810       10865.00            0.00   \n",
       "4   250  CASH_OUT   29648.02   C788941490           0.00            0.00   \n",
       "\n",
       "      nameDest  oldbalanceDest  newbalanceDest  isFraud  \n",
       "0  C1298177219       474016.32      1618631.97        0  \n",
       "1  C1323169990      2720411.37      3178359.67        0  \n",
       "2   C608741097      3274930.56      3121327.56        0  \n",
       "3   C462716348            0.00        49555.14        0  \n",
       "4  C1971700992        56933.09        86581.10        0  "
      ]
     },
     "execution_count": 1,
     "metadata": {},
     "output_type": "execute_result"
    }
   ],
   "source": [
    "import seaborn\n",
    "import pandas as pd\n",
    "import numpy as np\n",
    "import matplotlib.pyplot as plt\n",
    "from sklearn.linear_model import LogisticRegression\n",
    "from sklearn.model_selection import train_test_split\n",
    "from sklearn.preprocessing import StandardScaler\n",
    "\n",
    "# Load the data\n",
    "#transactions = pd.read_csv('transactions_modified.csv')\n",
    "transactions = pd.read_csv('transactions.csv')\n",
    "transactions.head()"
   ]
  },
  {
   "cell_type": "code",
   "execution_count": 2,
   "metadata": {},
   "outputs": [
    {
     "name": "stdout",
     "output_type": "stream",
     "text": [
      "<class 'pandas.core.frame.DataFrame'>\n",
      "RangeIndex: 199999 entries, 0 to 199998\n",
      "Data columns (total 10 columns):\n",
      " #   Column          Non-Null Count   Dtype  \n",
      "---  ------          --------------   -----  \n",
      " 0   step            199999 non-null  int64  \n",
      " 1   type            199999 non-null  object \n",
      " 2   amount          199999 non-null  float64\n",
      " 3   nameOrig        199999 non-null  object \n",
      " 4   oldbalanceOrg   199999 non-null  float64\n",
      " 5   newbalanceOrig  199999 non-null  float64\n",
      " 6   nameDest        199999 non-null  object \n",
      " 7   oldbalanceDest  199999 non-null  float64\n",
      " 8   newbalanceDest  199999 non-null  float64\n",
      " 9   isFraud         199999 non-null  int64  \n",
      "dtypes: float64(5), int64(2), object(3)\n",
      "memory usage: 15.3+ MB\n"
     ]
    }
   ],
   "source": [
    "transactions.info()"
   ]
  },
  {
   "cell_type": "code",
   "execution_count": 3,
   "metadata": {},
   "outputs": [
    {
     "data": {
      "text/plain": [
       "count    1.999990e+05\n",
       "mean     1.802425e+05\n",
       "std      6.255482e+05\n",
       "min      0.000000e+00\n",
       "25%      1.338746e+04\n",
       "50%      7.426695e+04\n",
       "75%      2.086376e+05\n",
       "max      5.204280e+07\n",
       "Name: amount, dtype: float64"
      ]
     },
     "execution_count": 3,
     "metadata": {},
     "output_type": "execute_result"
    }
   ],
   "source": [
    "# Summary statistics on amount column\n",
    "transactions['amount'].describe()"
   ]
  },
  {
   "cell_type": "code",
   "execution_count": 4,
   "metadata": {},
   "outputs": [
    {
     "name": "stdout",
     "output_type": "stream",
     "text": [
      "282\n"
     ]
    }
   ],
   "source": [
    "# How many fraudulent transactions?\n",
    "fraudulent_transactions = transactions[transactions['isFraud'] == 1]\n",
    "print(len(fraudulent_transactions))"
   ]
  },
  {
   "cell_type": "code",
   "execution_count": 5,
   "metadata": {},
   "outputs": [
    {
     "data": {
      "text/plain": [
       "array(['CASH_OUT', 'CASH_IN', 'PAYMENT', 'TRANSFER', 'DEBIT'],\n",
       "      dtype=object)"
      ]
     },
     "execution_count": 5,
     "metadata": {},
     "output_type": "execute_result"
    }
   ],
   "source": [
    "transactions['type'].unique()"
   ]
  },
  {
   "cell_type": "code",
   "execution_count": 6,
   "metadata": {},
   "outputs": [],
   "source": [
    "# Create isPayment field\n",
    "def payment_type_function(x):\n",
    "    if x == 'PAYMENT':\n",
    "        return 1\n",
    "    elif x == 'DEBIT':\n",
    "        return 1\n",
    "    else:\n",
    "        return 0\n",
    "\n",
    "transactions['isPayment'] = transactions['type'].apply(payment_type_function)\n",
    "\n",
    "# Create isMovement field\n",
    "def movement_function(x):\n",
    "    if x == 'CASH_OUT':\n",
    "        return 1\n",
    "    elif x == 'TRANSFER':\n",
    "        return 1\n",
    "    else:\n",
    "        return 0\n",
    "\n",
    "transactions['isMovement'] = transactions['type'].apply(movement_function)\n",
    "\n",
    "# Create accountDiff field\n",
    "transactions['accountDiff'] = abs(transactions['oldbalanceOrg'] - transactions['oldbalanceDest'])"
   ]
  },
  {
   "cell_type": "code",
   "execution_count": 7,
   "metadata": {},
   "outputs": [],
   "source": [
    "# Create features and label variables\n",
    "\n",
    "features = np.array(transactions[['amount', 'isPayment', 'isMovement', 'accountDiff']])\n",
    "label = transactions['isFraud']"
   ]
  },
  {
   "cell_type": "code",
   "execution_count": 8,
   "metadata": {},
   "outputs": [],
   "source": [
    "# Split dataset\n",
    "\n",
    "features_train, features_test, label_train, label_test = train_test_split(features, label, test_size= 0.3)"
   ]
  },
  {
   "cell_type": "code",
   "execution_count": 9,
   "metadata": {},
   "outputs": [],
   "source": [
    "# Normalize the features variables\n",
    "normalizer = StandardScaler()\n",
    "features_train = normalizer.fit_transform(features_train)"
   ]
  },
  {
   "cell_type": "code",
   "execution_count": 10,
   "metadata": {},
   "outputs": [
    {
     "data": {
      "text/plain": [
       "0.9985642754591104"
      ]
     },
     "execution_count": 10,
     "metadata": {},
     "output_type": "execute_result"
    }
   ],
   "source": [
    "# Create logistic regression model\n",
    "\n",
    "model = LogisticRegression()\n",
    "\n",
    "# Fit the model to the training data\n",
    "model.fit(features_train, label_train)\n",
    "\n",
    "# Score the model on the training data\n",
    "model.score(features_train, label_train)"
   ]
  },
  {
   "cell_type": "code",
   "execution_count": 11,
   "metadata": {},
   "outputs": [
    {
     "data": {
      "text/plain": [
       "0.7502"
      ]
     },
     "execution_count": 11,
     "metadata": {},
     "output_type": "execute_result"
    }
   ],
   "source": [
    "# Score the model on the test data\n",
    "model.score(features_test, label_test)"
   ]
  },
  {
   "cell_type": "code",
   "execution_count": 12,
   "metadata": {},
   "outputs": [
    {
     "name": "stdout",
     "output_type": "stream",
     "text": [
      "[[ 0.24471605 -0.73693098  2.25975048 -0.68458033]]\n",
      "[-9.00975488]\n"
     ]
    }
   ],
   "source": [
    "# Print the model coefficients\n",
    "print(model.coef_)\n",
    "print(model.intercept_)"
   ]
  },
  {
   "cell_type": "markdown",
   "metadata": {},
   "source": [
    "> It appears isPayment and isMovement are important features"
   ]
  },
  {
   "cell_type": "code",
   "execution_count": 13,
   "metadata": {},
   "outputs": [],
   "source": [
    "# New transaction data\n",
    "transaction1 = np.array([123456.78, 0.0, 1.0, 54670.1])\n",
    "transaction2 = np.array([98765.43, 1.0, 0.0, 8524.75])\n",
    "transaction3 = np.array([543678.31, 1.0, 0.0, 510025.5])\n",
    "\n",
    "# Create a new transaction\n",
    "your_transaction = np.array([42350.00, 0.0, 0.0, 34240.00])\n",
    "\n",
    "# Combine new transactions into a single array\n",
    "\n",
    "sample_transactions = np.stack((transaction1, transaction2, transaction3, your_transaction))"
   ]
  },
  {
   "cell_type": "code",
   "execution_count": 14,
   "metadata": {},
   "outputs": [],
   "source": [
    "# Normalize the new transactions\n",
    "sample_transactions = normalizer.transform(sample_transactions)"
   ]
  },
  {
   "cell_type": "code",
   "execution_count": 15,
   "metadata": {},
   "outputs": [
    {
     "data": {
      "text/plain": [
       "array([0, 0, 0, 0])"
      ]
     },
     "execution_count": 15,
     "metadata": {},
     "output_type": "execute_result"
    }
   ],
   "source": [
    "# Predict fraud on the new transactions\n",
    "model.predict(sample_transactions)\n"
   ]
  },
  {
   "cell_type": "code",
   "execution_count": 16,
   "metadata": {},
   "outputs": [
    {
     "data": {
      "text/plain": [
       "array([[9.96577545e-01, 3.42245541e-03],\n",
       "       [9.99992370e-01, 7.62955875e-06],\n",
       "       [9.99991713e-01, 8.28678871e-06],\n",
       "       [9.99964890e-01, 3.51104299e-05]])"
      ]
     },
     "execution_count": 16,
     "metadata": {},
     "output_type": "execute_result"
    }
   ],
   "source": [
    "# Show probabilities on the new transactions\n",
    "model.predict_proba(sample_transactions)"
   ]
  },
  {
   "cell_type": "code",
   "execution_count": null,
   "metadata": {},
   "outputs": [],
   "source": []
  }
 ],
 "metadata": {
  "kernelspec": {
   "display_name": "sklearn-env",
   "language": "python",
   "name": "python3"
  },
  "language_info": {
   "codemirror_mode": {
    "name": "ipython",
    "version": 3
   },
   "file_extension": ".py",
   "mimetype": "text/x-python",
   "name": "python",
   "nbconvert_exporter": "python",
   "pygments_lexer": "ipython3",
   "version": "3.11.4"
  },
  "orig_nbformat": 4
 },
 "nbformat": 4,
 "nbformat_minor": 2
}
